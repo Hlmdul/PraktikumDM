{
  "nbformat": 4,
  "nbformat_minor": 0,
  "metadata": {
    "colab": {
      "provenance": []
    },
    "kernelspec": {
      "name": "python3",
      "display_name": "Python 3"
    },
    "language_info": {
      "name": "python"
    }
  },
  "cells": [
    {
      "cell_type": "code",
      "source": [
        "import pandas as pd"
      ],
      "metadata": {
        "id": "6Fce_90aE4Vf"
      },
      "execution_count": 2,
      "outputs": []
    },
    {
      "cell_type": "code",
      "execution_count": 3,
      "metadata": {
        "id": "p0fStqm4Eqb_"
      },
      "outputs": [],
      "source": [
        "import numpy as np"
      ]
    },
    {
      "cell_type": "code",
      "source": [
        "s = pd.Series([1, 3, 5, np.nan, 6, 8])\n",
        "dates = pd.date_range('2023-10-01', periods=6)\n",
        "df = pd.DataFrame(np.random.randn(6, 4), index=dates, columns=list('ABCD'))\n",
        "\n",
        "print('Object Creation:')\n",
        "print('Series: ')\n",
        "print(s)\n",
        "print('\\nDataFrame: ')\n",
        "print(df)\n",
        "print(\"=\"*50)"
      ],
      "metadata": {
        "colab": {
          "base_uri": "https://localhost:8080/"
        },
        "id": "xfgbfQnBFhlg",
        "outputId": "3249ff05-449e-4e3b-8dda-19c308578178"
      },
      "execution_count": 4,
      "outputs": [
        {
          "output_type": "stream",
          "name": "stdout",
          "text": [
            "Object Creation:\n",
            "Series: \n",
            "0    1.0\n",
            "1    3.0\n",
            "2    5.0\n",
            "3    NaN\n",
            "4    6.0\n",
            "5    8.0\n",
            "dtype: float64\n",
            "\n",
            "DataFrame: \n",
            "                   A         B         C         D\n",
            "2023-10-01  1.400969 -0.377462  0.010262  0.805916\n",
            "2023-10-02  0.407264  0.383902 -0.912562 -0.305309\n",
            "2023-10-03  0.533696  1.297060  0.787888 -0.433071\n",
            "2023-10-04  0.588196  0.653073  0.296667  0.925938\n",
            "2023-10-05  0.932969  0.754801 -0.156615  0.437633\n",
            "2023-10-06 -0.603497 -0.147760 -1.830511  0.436884\n",
            "==================================================\n"
          ]
        }
      ]
    },
    {
      "cell_type": "code",
      "source": [
        "print('Viewing Data: ')\n",
        "print('First 3 Rows: ')\n",
        "print(df.head(3))\n",
        "print(\"\\nLast 2 Rows: \")\n",
        "print(df.tail(2))\n",
        "print(\"\\nIndex and Columns:\")\n",
        "print(df.index)\n",
        "print(df.columns)\n",
        "print('='*40)"
      ],
      "metadata": {
        "colab": {
          "base_uri": "https://localhost:8080/"
        },
        "id": "Vc4V68jdGyhU",
        "outputId": "0b2a74ca-0bfc-4f31-ed3a-ab858cd9dcbc"
      },
      "execution_count": 5,
      "outputs": [
        {
          "output_type": "stream",
          "name": "stdout",
          "text": [
            "Viewing Data: \n",
            "First 3 Rows: \n",
            "                   A         B         C         D\n",
            "2023-10-01  1.400969 -0.377462  0.010262  0.805916\n",
            "2023-10-02  0.407264  0.383902 -0.912562 -0.305309\n",
            "2023-10-03  0.533696  1.297060  0.787888 -0.433071\n",
            "\n",
            "Last 2 Rows: \n",
            "                   A         B         C         D\n",
            "2023-10-05  0.932969  0.754801 -0.156615  0.437633\n",
            "2023-10-06 -0.603497 -0.147760 -1.830511  0.436884\n",
            "\n",
            "Index and Columns:\n",
            "DatetimeIndex(['2023-10-01', '2023-10-02', '2023-10-03', '2023-10-04',\n",
            "               '2023-10-05', '2023-10-06'],\n",
            "              dtype='datetime64[ns]', freq='D')\n",
            "Index(['A', 'B', 'C', 'D'], dtype='object')\n",
            "========================================\n"
          ]
        }
      ]
    },
    {
      "cell_type": "code",
      "source": [
        "print('Selection: ')\n",
        "print('Selecting a column(A): ')\n",
        "print(df['A'])\n",
        "print('\\nSelecting by label (row 0):')\n",
        "print(df.loc[dates[0]])\n"
      ],
      "metadata": {
        "colab": {
          "base_uri": "https://localhost:8080/"
        },
        "id": "7TuoEw5cIccH",
        "outputId": "0ba54e48-ce84-4143-caca-945d37763bd8"
      },
      "execution_count": 6,
      "outputs": [
        {
          "output_type": "stream",
          "name": "stdout",
          "text": [
            "Selection: \n",
            "Selecting a column(A): \n",
            "2023-10-01    1.400969\n",
            "2023-10-02    0.407264\n",
            "2023-10-03    0.533696\n",
            "2023-10-04    0.588196\n",
            "2023-10-05    0.932969\n",
            "2023-10-06   -0.603497\n",
            "Freq: D, Name: A, dtype: float64\n",
            "\n",
            "Selecting by label (row 0):\n",
            "A    1.400969\n",
            "B   -0.377462\n",
            "C    0.010262\n",
            "D    0.805916\n",
            "Name: 2023-10-01 00:00:00, dtype: float64\n"
          ]
        }
      ]
    },
    {
      "cell_type": "code",
      "source": [
        "print('Selecting by position (row 1): ')\n",
        "print(df.iloc[1])"
      ],
      "metadata": {
        "colab": {
          "base_uri": "https://localhost:8080/"
        },
        "id": "tl3Lu3oiJRnT",
        "outputId": "24c0c33b-1786-4e74-e6b7-1e9ac9ea4a97"
      },
      "execution_count": 7,
      "outputs": [
        {
          "output_type": "stream",
          "name": "stdout",
          "text": [
            "Selecting by position (row 1): \n",
            "A    0.407264\n",
            "B    0.383902\n",
            "C   -0.912562\n",
            "D   -0.305309\n",
            "Name: 2023-10-02 00:00:00, dtype: float64\n"
          ]
        }
      ]
    },
    {
      "cell_type": "code",
      "source": [
        "print('Selecting a subset of row and columns: ')\n",
        "print(df.loc[dates[1:3], ['A', 'B']])\n",
        "print('='*40)"
      ],
      "metadata": {
        "colab": {
          "base_uri": "https://localhost:8080/"
        },
        "id": "ITKIGunxJo7T",
        "outputId": "daf0c995-95dd-4d76-ee4e-05c623b3e1ad"
      },
      "execution_count": 8,
      "outputs": [
        {
          "output_type": "stream",
          "name": "stdout",
          "text": [
            "Selecting a subset of row and columns: \n",
            "                   A         B\n",
            "2023-10-02  0.407264  0.383902\n",
            "2023-10-03  0.533696  1.297060\n",
            "========================================\n"
          ]
        }
      ]
    },
    {
      "cell_type": "code",
      "source": [
        "df1 = df.reindex(index=dates[0:4], columns=list(df.columns) + ['E'])\n",
        "df1.loc[dates[0]:dates[1], 'E'] = 1"
      ],
      "metadata": {
        "id": "BdFr0e0yfjNo"
      },
      "execution_count": 9,
      "outputs": []
    },
    {
      "cell_type": "code",
      "source": [
        "print('Missing Data: ')\n",
        "print('DataFrame with missing values: ')\n",
        "print(df1)\n",
        "print('\\nDropping rows with missing values: ')\n",
        "print(df1.dropna())\n",
        "print('\\nFilling missing values: ')\n",
        "print(df1.fillna(value=0))\n",
        "print('='*60)"
      ],
      "metadata": {
        "colab": {
          "base_uri": "https://localhost:8080/"
        },
        "id": "i9jbwjxgtemv",
        "outputId": "95420e5c-2846-4cf4-ef55-1bc3a92b98b4"
      },
      "execution_count": 10,
      "outputs": [
        {
          "output_type": "stream",
          "name": "stdout",
          "text": [
            "Missing Data: \n",
            "DataFrame with missing values: \n",
            "                   A         B         C         D    E\n",
            "2023-10-01  1.400969 -0.377462  0.010262  0.805916  1.0\n",
            "2023-10-02  0.407264  0.383902 -0.912562 -0.305309  1.0\n",
            "2023-10-03  0.533696  1.297060  0.787888 -0.433071  NaN\n",
            "2023-10-04  0.588196  0.653073  0.296667  0.925938  NaN\n",
            "\n",
            "Dropping rows with missing values: \n",
            "                   A         B         C         D    E\n",
            "2023-10-01  1.400969 -0.377462  0.010262  0.805916  1.0\n",
            "2023-10-02  0.407264  0.383902 -0.912562 -0.305309  1.0\n",
            "\n",
            "Filling missing values: \n",
            "                   A         B         C         D    E\n",
            "2023-10-01  1.400969 -0.377462  0.010262  0.805916  1.0\n",
            "2023-10-02  0.407264  0.383902 -0.912562 -0.305309  1.0\n",
            "2023-10-03  0.533696  1.297060  0.787888 -0.433071  0.0\n",
            "2023-10-04  0.588196  0.653073  0.296667  0.925938  0.0\n",
            "============================================================\n"
          ]
        }
      ]
    },
    {
      "cell_type": "code",
      "source": [
        "print('Operations: ')\n",
        "print('Means of each columns: ')\n",
        "print(df.mean())\n",
        "print('\\nSum of each row: ')\n",
        "print(df.sum(axis=1))\n",
        "print('='*40)"
      ],
      "metadata": {
        "colab": {
          "base_uri": "https://localhost:8080/"
        },
        "id": "ydsd6jjVt5EF",
        "outputId": "4fbfb29b-51c1-4b99-be61-56ae6715e025"
      },
      "execution_count": 11,
      "outputs": [
        {
          "output_type": "stream",
          "name": "stdout",
          "text": [
            "Operations: \n",
            "Means of each columns: \n",
            "A    0.543266\n",
            "B    0.427269\n",
            "C   -0.300812\n",
            "D    0.311332\n",
            "dtype: float64\n",
            "\n",
            "Sum of each row: \n",
            "2023-10-01    1.839686\n",
            "2023-10-02   -0.426705\n",
            "2023-10-03    2.185574\n",
            "2023-10-04    2.463873\n",
            "2023-10-05    1.968788\n",
            "2023-10-06   -2.144884\n",
            "Freq: D, dtype: float64\n",
            "========================================\n"
          ]
        }
      ]
    },
    {
      "cell_type": "code",
      "source": [
        "# Merge\n",
        "left = pd.DataFrame({\n",
        "    'key': ['K0', 'K1', 'K2', 'K3'],\n",
        "    'A' : ['A0', 'A1', 'A2', 'A3'],\n",
        "    'B' : ['B0', 'B1', 'B2', 'B3']\n",
        "})\n",
        "\n",
        "right = pd.DataFrame({\n",
        "    'key': ['K0', 'K1', 'K2', 'K3'],\n",
        "    'C' : ['C0', 'C1', 'C2', 'C3'],\n",
        "    'D' : ['D0', 'D1', 'D2', 'D3']\n",
        "})\n",
        "merged = pd.merge(left, right, on='key')\n",
        "\n",
        "print('Merge: ')\n",
        "print('Merged DataFrame: ')\n",
        "print(merged)\n",
        "print('='*40)"
      ],
      "metadata": {
        "colab": {
          "base_uri": "https://localhost:8080/"
        },
        "id": "8x78jCXpviMD",
        "outputId": "8826b81a-85e7-46a9-b88b-218b0dffd8ea"
      },
      "execution_count": 12,
      "outputs": [
        {
          "output_type": "stream",
          "name": "stdout",
          "text": [
            "Merge: \n",
            "Merged DataFrame: \n",
            "  key   A   B   C   D\n",
            "0  K0  A0  B0  C0  D0\n",
            "1  K1  A1  B1  C1  D1\n",
            "2  K2  A2  B2  C2  D2\n",
            "3  K3  A3  B3  C3  D3\n",
            "========================================\n"
          ]
        }
      ]
    },
    {
      "cell_type": "code",
      "source": [
        "# Groouping\n",
        "grouped = df.groupby('A').sum()\n",
        "print('Grouping: ')\n",
        "print('Grouped DataFrame: ')\n",
        "print(grouped)\n",
        "print('='*40)"
      ],
      "metadata": {
        "colab": {
          "base_uri": "https://localhost:8080/"
        },
        "id": "9r0FRW_Nwkzc",
        "outputId": "cfb4ec6f-e4b3-4552-e927-030bc5e18fd0"
      },
      "execution_count": 13,
      "outputs": [
        {
          "output_type": "stream",
          "name": "stdout",
          "text": [
            "Grouping: \n",
            "Grouped DataFrame: \n",
            "                  B         C         D\n",
            "A                                      \n",
            "-0.603497 -0.147760 -1.830511  0.436884\n",
            " 0.407264  0.383902 -0.912562 -0.305309\n",
            " 0.533696  1.297060  0.787888 -0.433071\n",
            " 0.588196  0.653073  0.296667  0.925938\n",
            " 0.932969  0.754801 -0.156615  0.437633\n",
            " 1.400969 -0.377462  0.010262  0.805916\n",
            "========================================\n"
          ]
        }
      ]
    },
    {
      "cell_type": "code",
      "source": [
        "stacked = df.stack()\n",
        "unstacked = stacked.unstack()\n",
        "\n",
        "print('Reshaping: ')\n",
        "print('Stacked DataFrame: ')\n",
        "print(stacked)\n",
        "print('\\nUnstacked DataFrame: ')\n",
        "print(unstacked)"
      ],
      "metadata": {
        "colab": {
          "base_uri": "https://localhost:8080/"
        },
        "id": "cCRdq_hZw7de",
        "outputId": "85e1d748-34b7-45b0-ce04-2cca86f2df04"
      },
      "execution_count": 14,
      "outputs": [
        {
          "output_type": "stream",
          "name": "stdout",
          "text": [
            "Reshaping: \n",
            "Stacked DataFrame: \n",
            "2023-10-01  A    1.400969\n",
            "            B   -0.377462\n",
            "            C    0.010262\n",
            "            D    0.805916\n",
            "2023-10-02  A    0.407264\n",
            "            B    0.383902\n",
            "            C   -0.912562\n",
            "            D   -0.305309\n",
            "2023-10-03  A    0.533696\n",
            "            B    1.297060\n",
            "            C    0.787888\n",
            "            D   -0.433071\n",
            "2023-10-04  A    0.588196\n",
            "            B    0.653073\n",
            "            C    0.296667\n",
            "            D    0.925938\n",
            "2023-10-05  A    0.932969\n",
            "            B    0.754801\n",
            "            C   -0.156615\n",
            "            D    0.437633\n",
            "2023-10-06  A   -0.603497\n",
            "            B   -0.147760\n",
            "            C   -1.830511\n",
            "            D    0.436884\n",
            "dtype: float64\n",
            "\n",
            "Unstacked DataFrame: \n",
            "                   A         B         C         D\n",
            "2023-10-01  1.400969 -0.377462  0.010262  0.805916\n",
            "2023-10-02  0.407264  0.383902 -0.912562 -0.305309\n",
            "2023-10-03  0.533696  1.297060  0.787888 -0.433071\n",
            "2023-10-04  0.588196  0.653073  0.296667  0.925938\n",
            "2023-10-05  0.932969  0.754801 -0.156615  0.437633\n",
            "2023-10-06 -0.603497 -0.147760 -1.830511  0.436884\n"
          ]
        }
      ]
    },
    {
      "cell_type": "code",
      "source": [
        "# Time Series\n",
        "ts = pd.Series(np.random.randn(1000), index=pd.date_range('2023-01-01', periods=1000))\n",
        "cumulative_sum = ts.cumsum()\n",
        "\n",
        "print('Time Series: ')\n",
        "print(ts.head())\n",
        "print('\\nCumulative Sum: ')\n",
        "print(cumulative_sum.head())"
      ],
      "metadata": {
        "colab": {
          "base_uri": "https://localhost:8080/"
        },
        "id": "t14TKKjGxk4V",
        "outputId": "4a4c852c-03b6-4d65-ee2c-6e776cd8a8f1"
      },
      "execution_count": 15,
      "outputs": [
        {
          "output_type": "stream",
          "name": "stdout",
          "text": [
            "Time Series: \n",
            "2023-01-01   -0.180370\n",
            "2023-01-02    0.993458\n",
            "2023-01-03   -0.624164\n",
            "2023-01-04    3.258770\n",
            "2023-01-05    1.381271\n",
            "Freq: D, dtype: float64\n",
            "\n",
            "Cumulative Sum: \n",
            "2023-01-01   -0.180370\n",
            "2023-01-02    0.813088\n",
            "2023-01-03    0.188924\n",
            "2023-01-04    3.447694\n",
            "2023-01-05    4.828964\n",
            "Freq: D, dtype: float64\n"
          ]
        }
      ]
    },
    {
      "cell_type": "code",
      "source": [
        "# Categoricals\n",
        "s = pd.Series(['cat', 'dog', 'bird', 'cat', 'dog'], dtype='category')\n",
        "\n",
        "# Define new categories\n",
        "new_categories = ['Category 1', 'Category 2', 'Category 3']\n",
        "\n",
        "# Create a new categorical series with the new categories\n",
        "s_new = s.cat.set_categories(new_categories)\n",
        "\n",
        "print('Categoricals: ')\n",
        "print('Original Categorical Series: ')\n",
        "print(s)\n",
        "print('\\nNew Categorical Series with updated categories: ')\n",
        "print(s_new)"
      ],
      "metadata": {
        "colab": {
          "base_uri": "https://localhost:8080/"
        },
        "id": "CWyeyWtWyhDi",
        "outputId": "34efea51-e4bb-4d94-b771-614afe68d3cb"
      },
      "execution_count": 16,
      "outputs": [
        {
          "output_type": "stream",
          "name": "stdout",
          "text": [
            "Categoricals: \n",
            "Original Categorical Series: \n",
            "0     cat\n",
            "1     dog\n",
            "2    bird\n",
            "3     cat\n",
            "4     dog\n",
            "dtype: category\n",
            "Categories (3, object): ['bird', 'cat', 'dog']\n",
            "\n",
            "New Categorical Series with updated categories: \n",
            "0    NaN\n",
            "1    NaN\n",
            "2    NaN\n",
            "3    NaN\n",
            "4    NaN\n",
            "dtype: category\n",
            "Categories (3, object): ['Category 1', 'Category 2', 'Category 3']\n"
          ]
        }
      ]
    },
    {
      "cell_type": "code",
      "source": [
        "#Plotting\n",
        "import matplotlib.pyplot as plt\n",
        "\n",
        "df.plot()\n",
        "print('plotting: ')\n",
        "plt.show()\n",
        "\n",
        "\n"
      ],
      "metadata": {
        "colab": {
          "base_uri": "https://localhost:8080/",
          "height": 479
        },
        "id": "y2jf2lGRzr1M",
        "outputId": "f16a94f3-4885-4ec6-ab9e-a3da20102eba"
      },
      "execution_count": 17,
      "outputs": [
        {
          "output_type": "stream",
          "name": "stdout",
          "text": [
            "plotting: \n"
          ]
        },
        {
          "output_type": "display_data",
          "data": {
            "text/plain": [
              "<Figure size 640x480 with 1 Axes>"
            ],
            "image/png": "[encoded data removed]"
          },
          "metadata": {}
        }
      ]
    },
    {
      "cell_type": "code",
      "source": [
        "# importing and exporting data\n",
        "imported_df = pd.read_csv('500_Person_Gender_Height_Weight_Index.csv')\n",
        "df.to_csv('sampel_data2.csv')\n",
        "\n",
        "print('Importing and Exporting Data: ')\n",
        "print('Exported DataFrame: ')\n",
        "print(df)\n",
        "print('\\nImported DataFrame From CSV')\n",
        "print(imported_df)\n",
        "print('='*40)"
      ],
      "metadata": {
        "colab": {
          "base_uri": "https://localhost:8080/"
        },
        "id": "I42Dd28b0PyP",
        "outputId": "368cc9b0-34d2-4ffe-e46d-c8990072352f"
      },
      "execution_count": 19,
      "outputs": [
        {
          "output_type": "stream",
          "name": "stdout",
          "text": [
            "Importing and Exporting Data: \n",
            "Exported DataFrame: \n",
            "                   A         B         C         D\n",
            "2023-10-01  1.400969 -0.377462  0.010262  0.805916\n",
            "2023-10-02  0.407264  0.383902 -0.912562 -0.305309\n",
            "2023-10-03  0.533696  1.297060  0.787888 -0.433071\n",
            "2023-10-04  0.588196  0.653073  0.296667  0.925938\n",
            "2023-10-05  0.932969  0.754801 -0.156615  0.437633\n",
            "2023-10-06 -0.603497 -0.147760 -1.830511  0.436884\n",
            "\n",
            "Imported DataFrame From CSV\n",
            "     Gender  Height  Weight  Index\n",
            "0      Male     174      96      4\n",
            "1      Male     189      87      2\n",
            "2    Female     185     110      4\n",
            "3    Female     195     104      3\n",
            "4      Male     149      61      3\n",
            "..      ...     ...     ...    ...\n",
            "495  Female     150     153      5\n",
            "496  Female     184     121      4\n",
            "497  Female     141     136      5\n",
            "498    Male     150      95      5\n",
            "499    Male     173     131      5\n",
            "\n",
            "[500 rows x 4 columns]\n",
            "========================================\n"
          ]
        }
      ]
    },
    {
      "cell_type": "code",
      "source": [],
      "metadata": {
        "id": "5doLwhld1lMd"
      },
      "execution_count": 18,
      "outputs": []
    }
  ]
}